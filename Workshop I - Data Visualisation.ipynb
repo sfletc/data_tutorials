{
 "cells": [
  {
   "cell_type": "markdown",
   "metadata": {
    "slideshow": {
     "slide_type": "slide"
    }
   },
   "source": [
    "# Workshop I - Data Visualisation"
   ]
  },
  {
   "cell_type": "markdown",
   "metadata": {
    "slideshow": {
     "slide_type": "slide"
    }
   },
   "source": [
    "- Install seaborn, pandas, numpy and matplotlib libraries\n",
    "\n",
    "```conda install -y seaborn pandas numpy matplotlib plotly```\n",
    "\n",
    "- Python libraries are pieces of software that can be imported into you Jupyter notebook and used\n",
    "- Seaborn, plotly and matplotlib are data visualisation libraries\n",
    "- Pandas is for data wrangling - a bit like excel but in code\n",
    "- Numpy is for maths and linear algebra - we won't be doing this, but the library is still useful"
   ]
  },
  {
   "cell_type": "markdown",
   "metadata": {
    "slideshow": {
     "slide_type": "slide"
    }
   },
   "source": [
    "## How to get help\n",
    "\n",
    "1. Google - all programmers spend a large amount of their time googling\n",
    "2. Stack Overflow - someone has almost certainly asked the same question you have.  The answer will be here.\n",
    "3. Use python's help function"
   ]
  },
  {
   "cell_type": "markdown",
   "metadata": {},
   "source": [
    "## Load our libraries into the notebook and set some parameters"
   ]
  },
  {
   "cell_type": "code",
   "execution_count": null,
   "metadata": {},
   "outputs": [],
   "source": [
    "import seaborn as sns\n",
    "import pandas as pd\n",
    "import numpy as np\n",
    "import plotly.express as px\n",
    "import matplotlib.pyplot as plt\n",
    "import ppscore as pps\n",
    "\n",
    "%matplotlib inline\n",
    "sns.set(rc={'figure.figsize': (11.7, 8.27)}, font_scale=1.5)\n",
    "from IPython.core.display import display, HTML"
   ]
  },
  {
   "cell_type": "markdown",
   "metadata": {},
   "source": [
    "## How to use Seaborn"
   ]
  },
  {
   "cell_type": "code",
   "execution_count": null,
   "metadata": {
    "scrolled": false
   },
   "outputs": [],
   "source": [
    "%%html\n",
    "<iframe src=\"https://seaborn.pydata.org/index.html\" width=\"1000\" height=\"800\"></iframe>"
   ]
  },
  {
   "cell_type": "markdown",
   "metadata": {},
   "source": [
    "## Load the penguin example dataset\n",
    "\n",
    "- The penguin dataset is assigned to the variable ```penguin```\n",
    "- The dataset is in the format of a pandas dataframe\n",
    "- Pandas dataframe cheatsheet at https://pandas.pydata.org/Pandas_Cheat_Sheet.pdf\n",
    "- We'll cover this in the stats workshop"
   ]
  },
  {
   "cell_type": "code",
   "execution_count": null,
   "metadata": {
    "scrolled": false
   },
   "outputs": [],
   "source": [
    "# make the variable penguins equal to the dataset\n",
    "penguins = sns.load_dataset(\"penguins\")\n",
    "# Have a look at the dataset\n",
    "penguins"
   ]
  },
  {
   "cell_type": "markdown",
   "metadata": {},
   "source": [
    "### How to use Python's inbuilt help function"
   ]
  },
  {
   "cell_type": "code",
   "execution_count": null,
   "metadata": {
    "scrolled": true
   },
   "outputs": [],
   "source": [
    "help(sns.load_dataset)"
   ]
  },
  {
   "cell_type": "markdown",
   "metadata": {},
   "source": [
    "## Summarise the dataset"
   ]
  },
  {
   "cell_type": "code",
   "execution_count": null,
   "metadata": {
    "scrolled": true
   },
   "outputs": [],
   "source": [
    "len(penguins)"
   ]
  },
  {
   "cell_type": "code",
   "execution_count": null,
   "metadata": {},
   "outputs": [],
   "source": [
    "print(\"Number of species: {}\".format(penguins['species'].nunique()))\n",
    "print(\"Number of islands: {}\".format(penguins['island'].nunique()))"
   ]
  },
  {
   "cell_type": "markdown",
   "metadata": {},
   "source": [
    "### Describe function automatically generates statistics for the dataset"
   ]
  },
  {
   "cell_type": "code",
   "execution_count": null,
   "metadata": {
    "scrolled": false
   },
   "outputs": [],
   "source": [
    "penguins.describe()"
   ]
  },
  {
   "cell_type": "markdown",
   "metadata": {},
   "source": [
    "## Write to file and load from file\n",
    "\n",
    "- Use Excel as usual for data entry"
   ]
  },
  {
   "cell_type": "code",
   "execution_count": null,
   "metadata": {},
   "outputs": [],
   "source": [
    "penguins.to_csv(\"penguins.csv\")"
   ]
  },
  {
   "cell_type": "code",
   "execution_count": null,
   "metadata": {},
   "outputs": [],
   "source": [
    "penguins = pd.read_csv(\"penguins.csv\", index_col=0)\n",
    "penguins"
   ]
  },
  {
   "cell_type": "markdown",
   "metadata": {},
   "source": [
    "## Plot a histogram"
   ]
  },
  {
   "cell_type": "markdown",
   "metadata": {},
   "source": [
    "### All species"
   ]
  },
  {
   "cell_type": "code",
   "execution_count": null,
   "metadata": {
    "scrolled": false
   },
   "outputs": [],
   "source": [
    "penguins = sns.load_dataset(\"penguins\")\n",
    "sns.displot(penguins, x=\"flipper_length_mm\", height=10)"
   ]
  },
  {
   "cell_type": "markdown",
   "metadata": {},
   "source": [
    "### Colour by species"
   ]
  },
  {
   "cell_type": "code",
   "execution_count": null,
   "metadata": {
    "scrolled": false
   },
   "outputs": [],
   "source": [
    "sns.displot(penguins,\n",
    "            x=\"flipper_length_mm\",\n",
    "            hue=\"species\",\n",
    "            element=\"step\",\n",
    "            height=10)"
   ]
  },
  {
   "cell_type": "markdown",
   "metadata": {},
   "source": [
    "### Normalise data"
   ]
  },
  {
   "cell_type": "code",
   "execution_count": null,
   "metadata": {},
   "outputs": [],
   "source": [
    "sns.displot(penguins,\n",
    "            x=\"flipper_length_mm\",\n",
    "            hue=\"species\",\n",
    "            stat=\"density\",\n",
    "            common_norm=False,\n",
    "            element=\"step\",\n",
    "            height=10)"
   ]
  },
  {
   "cell_type": "markdown",
   "metadata": {},
   "source": [
    "### Smoothed and normalised plot using kernel density"
   ]
  },
  {
   "cell_type": "code",
   "execution_count": null,
   "metadata": {
    "scrolled": false
   },
   "outputs": [],
   "source": [
    "sns.displot(penguins,\n",
    "            x=\"flipper_length_mm\",\n",
    "            hue=\"species\",\n",
    "            kind=\"kde\",\n",
    "            common_norm=False,\n",
    "            fill=True,\n",
    "            height=10)"
   ]
  },
  {
   "cell_type": "markdown",
   "metadata": {},
   "source": [
    "### Distribution plot in 2 dimensions"
   ]
  },
  {
   "cell_type": "code",
   "execution_count": null,
   "metadata": {
    "scrolled": false
   },
   "outputs": [],
   "source": [
    "sns.displot(penguins,\n",
    "            x=\"bill_length_mm\",\n",
    "            y=\"bill_depth_mm\",\n",
    "            hue=\"species\",\n",
    "            height=10)"
   ]
  },
  {
   "cell_type": "markdown",
   "metadata": {},
   "source": [
    "### Kernel density in 2 dimensions"
   ]
  },
  {
   "cell_type": "code",
   "execution_count": null,
   "metadata": {
    "scrolled": false
   },
   "outputs": [],
   "source": [
    "sns.displot(penguins,\n",
    "            x=\"bill_length_mm\",\n",
    "            y=\"bill_depth_mm\",\n",
    "            hue=\"species\",\n",
    "            kind=\"kde\",\n",
    "            height=10)"
   ]
  },
  {
   "cell_type": "markdown",
   "metadata": {},
   "source": [
    "### Joint plot includes 1D and 2D for 2 variables"
   ]
  },
  {
   "cell_type": "code",
   "execution_count": null,
   "metadata": {
    "scrolled": false
   },
   "outputs": [],
   "source": [
    "g = sns.jointplot(data=penguins,\n",
    "                  x=\"bill_length_mm\",\n",
    "                  y=\"bill_depth_mm\",\n",
    "                  hue=\"species\",\n",
    "                  kind=\"kde\",\n",
    "                  fill=True,\n",
    "                  height=10)"
   ]
  },
  {
   "cell_type": "markdown",
   "metadata": {},
   "source": [
    "### Show multiple plot types in a grid for combinations of variables"
   ]
  },
  {
   "cell_type": "code",
   "execution_count": null,
   "metadata": {
    "scrolled": false
   },
   "outputs": [],
   "source": [
    "g = sns.PairGrid(penguins)\n",
    "g.map_upper(sns.scatterplot)\n",
    "g.map_lower(sns.kdeplot)\n",
    "g.map_diag(sns.histplot, kde=True)"
   ]
  },
  {
   "cell_type": "markdown",
   "metadata": {},
   "source": [
    "## Load and display the titanic dataset"
   ]
  },
  {
   "cell_type": "code",
   "execution_count": null,
   "metadata": {},
   "outputs": [],
   "source": [
    "titanic = sns.load_dataset(\"titanic\")\n",
    "titanic"
   ]
  },
  {
   "cell_type": "markdown",
   "metadata": {},
   "source": [
    "### Categorical bar plot - confidence intervals are automatically generated"
   ]
  },
  {
   "cell_type": "code",
   "execution_count": null,
   "metadata": {},
   "outputs": [],
   "source": [
    "sns.catplot(x=\"sex\",\n",
    "            y=\"survived\",\n",
    "            hue=\"class\",\n",
    "            kind=\"bar\",\n",
    "            data=titanic,\n",
    "            capsize=0.05,\n",
    "            errwidth=2,\n",
    "            height=10)"
   ]
  },
  {
   "cell_type": "markdown",
   "metadata": {},
   "source": [
    "### Categorical box plot"
   ]
  },
  {
   "cell_type": "code",
   "execution_count": null,
   "metadata": {
    "scrolled": false
   },
   "outputs": [],
   "source": [
    "iris = sns.load_dataset(\"iris\")\n",
    "sns.catplot(data=iris, orient=\"h\", kind=\"box\", height=5, aspect=2)"
   ]
  },
  {
   "cell_type": "markdown",
   "metadata": {},
   "source": [
    "### Violin plot - similar to box plot but give a better idea of distribution "
   ]
  },
  {
   "cell_type": "code",
   "execution_count": null,
   "metadata": {
    "scrolled": false
   },
   "outputs": [],
   "source": [
    "sns.violinplot(x=iris.species, y=iris.sepal_length)"
   ]
  },
  {
   "cell_type": "markdown",
   "metadata": {},
   "source": [
    "### Categorical box plot\n",
    "\n",
    "- plots are automatically aligned\n",
    "- not the the input data can be limited - i.e. fare must be above 0"
   ]
  },
  {
   "cell_type": "code",
   "execution_count": null,
   "metadata": {
    "scrolled": false
   },
   "outputs": [],
   "source": [
    "g = sns.catplot(x=\"fare\",\n",
    "                y=\"survived\",\n",
    "                row=\"class\",\n",
    "                kind=\"box\",\n",
    "                orient=\"h\",\n",
    "                height=3,\n",
    "                aspect=4,\n",
    "                data=titanic.query(\"fare > 0\"))\n",
    "g.set(xscale=\"log\")"
   ]
  },
  {
   "cell_type": "markdown",
   "metadata": {},
   "source": [
    "### Load and view the tips dataset"
   ]
  },
  {
   "cell_type": "code",
   "execution_count": null,
   "metadata": {
    "scrolled": false
   },
   "outputs": [],
   "source": [
    "tips = sns.load_dataset(\"tips\")\n",
    "tips"
   ]
  },
  {
   "cell_type": "markdown",
   "metadata": {},
   "source": [
    "### Scatter plot with regression line + confidence intervals"
   ]
  },
  {
   "cell_type": "code",
   "execution_count": null,
   "metadata": {
    "scrolled": false
   },
   "outputs": [],
   "source": [
    "sns.regplot(x=\"total_bill\", y=\"tip\", data=tips)"
   ]
  },
  {
   "cell_type": "markdown",
   "metadata": {},
   "source": [
    "### Another join plot - scatter plot and distributions of each variable"
   ]
  },
  {
   "cell_type": "code",
   "execution_count": null,
   "metadata": {
    "scrolled": false
   },
   "outputs": [],
   "source": [
    "sns.jointplot(data=tips, x=\"total_bill\", y=\"tip\", kind=\"reg\", height=10)"
   ]
  },
  {
   "cell_type": "markdown",
   "metadata": {},
   "source": [
    "## Heatmap\n",
    "\n",
    "- a table with coloured cells"
   ]
  },
  {
   "cell_type": "markdown",
   "metadata": {},
   "source": [
    "### Correlation matrix - correlation between numerical variables"
   ]
  },
  {
   "cell_type": "code",
   "execution_count": null,
   "metadata": {
    "scrolled": false
   },
   "outputs": [],
   "source": [
    "sns.heatmap(penguins.corr(), annot=True, cmap='RdYlGn')"
   ]
  },
  {
   "cell_type": "markdown",
   "metadata": {},
   "source": [
    "### Predictive power score - how predictive is each variable of the others\n",
    "\n",
    "- uses the PPS library"
   ]
  },
  {
   "cell_type": "code",
   "execution_count": null,
   "metadata": {},
   "outputs": [],
   "source": [
    "pps_matrix = pps.matrix(penguins)\n",
    "pps_pivot = pps_matrix.pivot('x', 'y', 'ppscore')\n",
    "pps_pivot.index.name, pps_pivot.columns.name = None, None\n",
    "sns.heatmap(pps_pivot, annot=True, cmap='YlGn', annot_kws={\"fontsize\": 10})"
   ]
  },
  {
   "cell_type": "markdown",
   "metadata": {},
   "source": [
    "### Predictive power scores as a bar graph"
   ]
  },
  {
   "cell_type": "code",
   "execution_count": null,
   "metadata": {
    "scrolled": false
   },
   "outputs": [],
   "source": [
    "import seaborn as sns\n",
    "predictors_df = pps.predictors(penguins, y=\"species\")\n",
    "sns.barplot(data=predictors_df, x=\"x\", y=\"ppscore\")\n",
    "plt.xticks(rotation=70)\n",
    "plt.tight_layout()"
   ]
  },
  {
   "cell_type": "markdown",
   "metadata": {},
   "source": [
    "## Plotly library\n",
    "\n",
    "- an alternative to Seaborn with some nice features"
   ]
  },
  {
   "cell_type": "code",
   "execution_count": null,
   "metadata": {
    "scrolled": false
   },
   "outputs": [],
   "source": [
    "%%html\n",
    "<iframe src=\"https://plotly.com/python/\" width=\"1000\" height=\"800\"></iframe>"
   ]
  },
  {
   "cell_type": "markdown",
   "metadata": {},
   "source": [
    "### Interactive 3D plots"
   ]
  },
  {
   "cell_type": "code",
   "execution_count": null,
   "metadata": {
    "scrolled": false
   },
   "outputs": [],
   "source": [
    "df = px.data.iris()\n",
    "fig = px.scatter_3d(df,\n",
    "                    x='sepal_length',\n",
    "                    y='sepal_width',\n",
    "                    z='petal_width',\n",
    "                    color='species',\n",
    "                    size='petal_length',\n",
    "                    size_max=22,\n",
    "                    opacity=0.7,\n",
    "                    width=950,\n",
    "                    height=950)\n",
    "fig.update_layout(margin=dict(l=0, r=0, t=0, b=0), )"
   ]
  },
  {
   "cell_type": "markdown",
   "metadata": {},
   "source": [
    "### Animated plots - e.g. change over time"
   ]
  },
  {
   "cell_type": "code",
   "execution_count": null,
   "metadata": {
    "scrolled": false
   },
   "outputs": [],
   "source": [
    "df = px.data.gapminder()\n",
    "px.scatter(df,\n",
    "           x=\"gdpPercap\",\n",
    "           y=\"lifeExp\",\n",
    "           animation_frame=\"year\",\n",
    "           animation_group=\"country\",\n",
    "           size=\"pop\",\n",
    "           color=\"continent\",\n",
    "           hover_name=\"country\",\n",
    "           log_x=True,\n",
    "           size_max=55,\n",
    "           range_x=[100, 100000],\n",
    "           range_y=[25, 90])"
   ]
  },
  {
   "cell_type": "markdown",
   "metadata": {},
   "source": [
    "# Next - basic Python"
   ]
  },
  {
   "cell_type": "code",
   "execution_count": null,
   "metadata": {},
   "outputs": [],
   "source": []
  }
 ],
 "metadata": {
  "kernelspec": {
   "display_name": "Python 3",
   "language": "python",
   "name": "python3"
  },
  "language_info": {
   "codemirror_mode": {
    "name": "ipython",
    "version": 3
   },
   "file_extension": ".py",
   "mimetype": "text/x-python",
   "name": "python",
   "nbconvert_exporter": "python",
   "pygments_lexer": "ipython3",
   "version": "3.8.5"
  }
 },
 "nbformat": 4,
 "nbformat_minor": 4
}
